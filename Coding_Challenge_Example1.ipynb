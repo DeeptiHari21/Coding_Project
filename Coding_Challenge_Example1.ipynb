{
  "nbformat": 4,
  "nbformat_minor": 0,
  "metadata": {
    "colab": {
      "name": "AVL_Coding_Challenge_Example1.ipynb",
      "provenance": [],
      "collapsed_sections": [],
      "authorship_tag": "ABX9TyO7C+FqCE5LwZJFWmnxW/FS",
      "include_colab_link": true
    },
    "kernelspec": {
      "name": "python3",
      "display_name": "Python 3"
    },
    "language_info": {
      "name": "python"
    }
  },
  "cells": [
    {
      "cell_type": "markdown",
      "metadata": {
        "id": "view-in-github",
        "colab_type": "text"
      },
      "source": [
        "<a href=\"https://colab.research.google.com/github/DeeptiHari21/Coding_Project/blob/Master/Coding_Challenge_Example1.ipynb\" target=\"_parent\"><img src=\"https://colab.research.google.com/assets/colab-badge.svg\" alt=\"Open In Colab\"/></a>"
      ]
    },
    {
      "cell_type": "code",
      "execution_count": 1,
      "metadata": {
        "id": "-pPXojDhmFIn"
      },
      "outputs": [],
      "source": [
        "import pandas as pd\n",
        "import numpy as np\n",
        "import matplotlib.pyplot as plt\n",
        "%matplotlib inline\n",
        "import seaborn as sns"
      ]
    },
    {
      "cell_type": "code",
      "source": [
        "# Load the data.\n",
        "df = pd.read_csv(\"data.csv\", sep=\";\")"
      ],
      "metadata": {
        "id": "RhBs6_uEmjz7"
      },
      "execution_count": 2,
      "outputs": []
    },
    {
      "cell_type": "code",
      "source": [
        "# Get basic information about the data.\n",
        "print(\"Dimension of datasets is: \", df.shape)\n",
        "print(df.dtypes)"
      ],
      "metadata": {
        "colab": {
          "base_uri": "https://localhost:8080/"
        },
        "id": "EWn9aKGQxOqW",
        "outputId": "7fa4623e-2711-4dcf-a521-94e602ccd26f"
      },
      "execution_count": 3,
      "outputs": [
        {
          "output_type": "stream",
          "name": "stdout",
          "text": [
            "Dimension of datasets is:  (5777, 31)\n",
            "PSEUDO_VIN            int64\n",
            "TONDUR              float64\n",
            "EngSpDist_K1        float64\n",
            "EngSpDist_K2        float64\n",
            "EngSpDist_K3        float64\n",
            "EngSpDist_K4        float64\n",
            "EngSpDist_K5        float64\n",
            "EngSpDist_K6        float64\n",
            "EngSpDist_K7        float64\n",
            "EngSpDist_K8        float64\n",
            "EngSpDist_K9        float64\n",
            "EngSpDist_K10       float64\n",
            "EngSpDist_K11       float64\n",
            "EngSpDist_K12       float64\n",
            "EngSpDist_K13       float64\n",
            "EngSpDist_K14         int64\n",
            "AmbTempDist_K1        int64\n",
            "AmbTempDist_K2        int64\n",
            "AmbTempDist_K3        int64\n",
            "AmbTempDist_K4        int64\n",
            "AmbTempDist_K5        int64\n",
            "AmbTempDist_K6        int64\n",
            "AmbTempDist_K7        int64\n",
            "AmbTempDist_K8        int64\n",
            "AmbTempDist_K9        int64\n",
            "AmbTempDist_K10       int64\n",
            "MILEAGE               int64\n",
            "DIAGNOSIS_DATE       object\n",
            "REPAIR_DATE          object\n",
            "TACHOMETER_IN_KM    float64\n",
            "LABEL                object\n",
            "dtype: object\n"
          ]
        }
      ]
    },
    {
      "cell_type": "code",
      "source": [
        "df.head()"
      ],
      "metadata": {
        "colab": {
          "base_uri": "https://localhost:8080/",
          "height": 300
        },
        "id": "DRn_LCynxW5Y",
        "outputId": "5cfb94f3-07fb-469f-e740-5127935786d3"
      },
      "execution_count": 4,
      "outputs": [
        {
          "output_type": "execute_result",
          "data": {
            "text/plain": [
              "   PSEUDO_VIN     TONDUR  EngSpDist_K1  EngSpDist_K2  EngSpDist_K3  \\\n",
              "0        5247  1249456.1      239471.8      443507.3      230166.7   \n",
              "1        5405  2221482.5      868673.2      862615.7      154180.3   \n",
              "2        1642  3433681.7      822744.4     1954545.1      366699.7   \n",
              "3        4784   615134.7      138935.2      209138.3      106259.6   \n",
              "4        3656  2141362.5      797644.6      729555.5      242742.9   \n",
              "\n",
              "   EngSpDist_K4  EngSpDist_K5  EngSpDist_K6  EngSpDist_K7  EngSpDist_K8  ...  \\\n",
              "0       18955.4        3453.7        1631.0         748.4         373.2  ...   \n",
              "1       12707.2        2885.7         951.6         466.9         255.2  ...   \n",
              "2       26077.9        1452.6         238.2          91.5          47.4  ...   \n",
              "3       10133.9        1111.9         230.7          81.5          49.9  ...   \n",
              "4       13288.6        2374.5         815.7         341.1         175.1  ...   \n",
              "\n",
              "   AmbTempDist_K6  AmbTempDist_K7  AmbTempDist_K8  AmbTempDist_K9  \\\n",
              "0             317             416             155               0   \n",
              "1             478             479             167               1   \n",
              "2             676             993             261               2   \n",
              "3             169             295             112               2   \n",
              "4             358             750             229               2   \n",
              "\n",
              "   AmbTempDist_K10  MILEAGE  DIAGNOSIS_DATE  REPAIR_DATE  TACHOMETER_IN_KM  \\\n",
              "0                0    35008        03.06.14          NaN               NaN   \n",
              "1                0    14959        10.08.15          NaN               NaN   \n",
              "2                0    37685        30.01.15          NaN               NaN   \n",
              "3                0     7054        02.04.15          NaN               NaN   \n",
              "4                1    19680        23.11.15          NaN               NaN   \n",
              "\n",
              "       LABEL  \n",
              "0  NO_DAMAGE  \n",
              "1  NO_DAMAGE  \n",
              "2  NO_DAMAGE  \n",
              "3  NO_DAMAGE  \n",
              "4  NO_DAMAGE  \n",
              "\n",
              "[5 rows x 31 columns]"
            ],
            "text/html": [
              "\n",
              "  <div id=\"df-976fea9c-9fcf-4f96-b30b-86c86b7d5ada\">\n",
              "    <div class=\"colab-df-container\">\n",
              "      <div>\n",
              "<style scoped>\n",
              "    .dataframe tbody tr th:only-of-type {\n",
              "        vertical-align: middle;\n",
              "    }\n",
              "\n",
              "    .dataframe tbody tr th {\n",
              "        vertical-align: top;\n",
              "    }\n",
              "\n",
              "    .dataframe thead th {\n",
              "        text-align: right;\n",
              "    }\n",
              "</style>\n",
              "<table border=\"1\" class=\"dataframe\">\n",
              "  <thead>\n",
              "    <tr style=\"text-align: right;\">\n",
              "      <th></th>\n",
              "      <th>PSEUDO_VIN</th>\n",
              "      <th>TONDUR</th>\n",
              "      <th>EngSpDist_K1</th>\n",
              "      <th>EngSpDist_K2</th>\n",
              "      <th>EngSpDist_K3</th>\n",
              "      <th>EngSpDist_K4</th>\n",
              "      <th>EngSpDist_K5</th>\n",
              "      <th>EngSpDist_K6</th>\n",
              "      <th>EngSpDist_K7</th>\n",
              "      <th>EngSpDist_K8</th>\n",
              "      <th>...</th>\n",
              "      <th>AmbTempDist_K6</th>\n",
              "      <th>AmbTempDist_K7</th>\n",
              "      <th>AmbTempDist_K8</th>\n",
              "      <th>AmbTempDist_K9</th>\n",
              "      <th>AmbTempDist_K10</th>\n",
              "      <th>MILEAGE</th>\n",
              "      <th>DIAGNOSIS_DATE</th>\n",
              "      <th>REPAIR_DATE</th>\n",
              "      <th>TACHOMETER_IN_KM</th>\n",
              "      <th>LABEL</th>\n",
              "    </tr>\n",
              "  </thead>\n",
              "  <tbody>\n",
              "    <tr>\n",
              "      <th>0</th>\n",
              "      <td>5247</td>\n",
              "      <td>1249456.1</td>\n",
              "      <td>239471.8</td>\n",
              "      <td>443507.3</td>\n",
              "      <td>230166.7</td>\n",
              "      <td>18955.4</td>\n",
              "      <td>3453.7</td>\n",
              "      <td>1631.0</td>\n",
              "      <td>748.4</td>\n",
              "      <td>373.2</td>\n",
              "      <td>...</td>\n",
              "      <td>317</td>\n",
              "      <td>416</td>\n",
              "      <td>155</td>\n",
              "      <td>0</td>\n",
              "      <td>0</td>\n",
              "      <td>35008</td>\n",
              "      <td>03.06.14</td>\n",
              "      <td>NaN</td>\n",
              "      <td>NaN</td>\n",
              "      <td>NO_DAMAGE</td>\n",
              "    </tr>\n",
              "    <tr>\n",
              "      <th>1</th>\n",
              "      <td>5405</td>\n",
              "      <td>2221482.5</td>\n",
              "      <td>868673.2</td>\n",
              "      <td>862615.7</td>\n",
              "      <td>154180.3</td>\n",
              "      <td>12707.2</td>\n",
              "      <td>2885.7</td>\n",
              "      <td>951.6</td>\n",
              "      <td>466.9</td>\n",
              "      <td>255.2</td>\n",
              "      <td>...</td>\n",
              "      <td>478</td>\n",
              "      <td>479</td>\n",
              "      <td>167</td>\n",
              "      <td>1</td>\n",
              "      <td>0</td>\n",
              "      <td>14959</td>\n",
              "      <td>10.08.15</td>\n",
              "      <td>NaN</td>\n",
              "      <td>NaN</td>\n",
              "      <td>NO_DAMAGE</td>\n",
              "    </tr>\n",
              "    <tr>\n",
              "      <th>2</th>\n",
              "      <td>1642</td>\n",
              "      <td>3433681.7</td>\n",
              "      <td>822744.4</td>\n",
              "      <td>1954545.1</td>\n",
              "      <td>366699.7</td>\n",
              "      <td>26077.9</td>\n",
              "      <td>1452.6</td>\n",
              "      <td>238.2</td>\n",
              "      <td>91.5</td>\n",
              "      <td>47.4</td>\n",
              "      <td>...</td>\n",
              "      <td>676</td>\n",
              "      <td>993</td>\n",
              "      <td>261</td>\n",
              "      <td>2</td>\n",
              "      <td>0</td>\n",
              "      <td>37685</td>\n",
              "      <td>30.01.15</td>\n",
              "      <td>NaN</td>\n",
              "      <td>NaN</td>\n",
              "      <td>NO_DAMAGE</td>\n",
              "    </tr>\n",
              "    <tr>\n",
              "      <th>3</th>\n",
              "      <td>4784</td>\n",
              "      <td>615134.7</td>\n",
              "      <td>138935.2</td>\n",
              "      <td>209138.3</td>\n",
              "      <td>106259.6</td>\n",
              "      <td>10133.9</td>\n",
              "      <td>1111.9</td>\n",
              "      <td>230.7</td>\n",
              "      <td>81.5</td>\n",
              "      <td>49.9</td>\n",
              "      <td>...</td>\n",
              "      <td>169</td>\n",
              "      <td>295</td>\n",
              "      <td>112</td>\n",
              "      <td>2</td>\n",
              "      <td>0</td>\n",
              "      <td>7054</td>\n",
              "      <td>02.04.15</td>\n",
              "      <td>NaN</td>\n",
              "      <td>NaN</td>\n",
              "      <td>NO_DAMAGE</td>\n",
              "    </tr>\n",
              "    <tr>\n",
              "      <th>4</th>\n",
              "      <td>3656</td>\n",
              "      <td>2141362.5</td>\n",
              "      <td>797644.6</td>\n",
              "      <td>729555.5</td>\n",
              "      <td>242742.9</td>\n",
              "      <td>13288.6</td>\n",
              "      <td>2374.5</td>\n",
              "      <td>815.7</td>\n",
              "      <td>341.1</td>\n",
              "      <td>175.1</td>\n",
              "      <td>...</td>\n",
              "      <td>358</td>\n",
              "      <td>750</td>\n",
              "      <td>229</td>\n",
              "      <td>2</td>\n",
              "      <td>1</td>\n",
              "      <td>19680</td>\n",
              "      <td>23.11.15</td>\n",
              "      <td>NaN</td>\n",
              "      <td>NaN</td>\n",
              "      <td>NO_DAMAGE</td>\n",
              "    </tr>\n",
              "  </tbody>\n",
              "</table>\n",
              "<p>5 rows × 31 columns</p>\n",
              "</div>\n",
              "      <button class=\"colab-df-convert\" onclick=\"convertToInteractive('df-976fea9c-9fcf-4f96-b30b-86c86b7d5ada')\"\n",
              "              title=\"Convert this dataframe to an interactive table.\"\n",
              "              style=\"display:none;\">\n",
              "        \n",
              "  <svg xmlns=\"http://www.w3.org/2000/svg\" height=\"24px\"viewBox=\"0 0 24 24\"\n",
              "       width=\"24px\">\n",
              "    <path d=\"M0 0h24v24H0V0z\" fill=\"none\"/>\n",
              "    <path d=\"M18.56 5.44l.94 2.06.94-2.06 2.06-.94-2.06-.94-.94-2.06-.94 2.06-2.06.94zm-11 1L8.5 8.5l.94-2.06 2.06-.94-2.06-.94L8.5 2.5l-.94 2.06-2.06.94zm10 10l.94 2.06.94-2.06 2.06-.94-2.06-.94-.94-2.06-.94 2.06-2.06.94z\"/><path d=\"M17.41 7.96l-1.37-1.37c-.4-.4-.92-.59-1.43-.59-.52 0-1.04.2-1.43.59L10.3 9.45l-7.72 7.72c-.78.78-.78 2.05 0 2.83L4 21.41c.39.39.9.59 1.41.59.51 0 1.02-.2 1.41-.59l7.78-7.78 2.81-2.81c.8-.78.8-2.07 0-2.86zM5.41 20L4 18.59l7.72-7.72 1.47 1.35L5.41 20z\"/>\n",
              "  </svg>\n",
              "      </button>\n",
              "      \n",
              "  <style>\n",
              "    .colab-df-container {\n",
              "      display:flex;\n",
              "      flex-wrap:wrap;\n",
              "      gap: 12px;\n",
              "    }\n",
              "\n",
              "    .colab-df-convert {\n",
              "      background-color: #E8F0FE;\n",
              "      border: none;\n",
              "      border-radius: 50%;\n",
              "      cursor: pointer;\n",
              "      display: none;\n",
              "      fill: #1967D2;\n",
              "      height: 32px;\n",
              "      padding: 0 0 0 0;\n",
              "      width: 32px;\n",
              "    }\n",
              "\n",
              "    .colab-df-convert:hover {\n",
              "      background-color: #E2EBFA;\n",
              "      box-shadow: 0px 1px 2px rgba(60, 64, 67, 0.3), 0px 1px 3px 1px rgba(60, 64, 67, 0.15);\n",
              "      fill: #174EA6;\n",
              "    }\n",
              "\n",
              "    [theme=dark] .colab-df-convert {\n",
              "      background-color: #3B4455;\n",
              "      fill: #D2E3FC;\n",
              "    }\n",
              "\n",
              "    [theme=dark] .colab-df-convert:hover {\n",
              "      background-color: #434B5C;\n",
              "      box-shadow: 0px 1px 3px 1px rgba(0, 0, 0, 0.15);\n",
              "      filter: drop-shadow(0px 1px 2px rgba(0, 0, 0, 0.3));\n",
              "      fill: #FFFFFF;\n",
              "    }\n",
              "  </style>\n",
              "\n",
              "      <script>\n",
              "        const buttonEl =\n",
              "          document.querySelector('#df-976fea9c-9fcf-4f96-b30b-86c86b7d5ada button.colab-df-convert');\n",
              "        buttonEl.style.display =\n",
              "          google.colab.kernel.accessAllowed ? 'block' : 'none';\n",
              "\n",
              "        async function convertToInteractive(key) {\n",
              "          const element = document.querySelector('#df-976fea9c-9fcf-4f96-b30b-86c86b7d5ada');\n",
              "          const dataTable =\n",
              "            await google.colab.kernel.invokeFunction('convertToInteractive',\n",
              "                                                     [key], {});\n",
              "          if (!dataTable) return;\n",
              "\n",
              "          const docLinkHtml = 'Like what you see? Visit the ' +\n",
              "            '<a target=\"_blank\" href=https://colab.research.google.com/notebooks/data_table.ipynb>data table notebook</a>'\n",
              "            + ' to learn more about interactive tables.';\n",
              "          element.innerHTML = '';\n",
              "          dataTable['output_type'] = 'display_data';\n",
              "          await google.colab.output.renderOutput(dataTable, element);\n",
              "          const docLink = document.createElement('div');\n",
              "          docLink.innerHTML = docLinkHtml;\n",
              "          element.appendChild(docLink);\n",
              "        }\n",
              "      </script>\n",
              "    </div>\n",
              "  </div>\n",
              "  "
            ]
          },
          "metadata": {},
          "execution_count": 4
        }
      ]
    },
    {
      "cell_type": "markdown",
      "source": [
        "# Exploratory Data Anlysis"
      ],
      "metadata": {
        "id": "OO39p87VBaJ9"
      }
    },
    {
      "cell_type": "code",
      "source": [
        "# Check how many damaged and unamaged vehicles are there..\n",
        "print(df.value_counts(\"LABEL\"))\n",
        "\n",
        "# Visualize the count.\n",
        "sns.countplot(data=df, x=\"LABEL\", label=\"Count\")"
      ],
      "metadata": {
        "colab": {
          "base_uri": "https://localhost:8080/",
          "height": 367
        },
        "id": "9TrOhL06mqtS",
        "outputId": "21e03982-e03d-4c3f-f63f-f9b2d65be982"
      },
      "execution_count": 5,
      "outputs": [
        {
          "output_type": "stream",
          "name": "stdout",
          "text": [
            "LABEL\n",
            "NO_DAMAGE    5441\n",
            "DAMAGE        336\n",
            "dtype: int64\n"
          ]
        },
        {
          "output_type": "execute_result",
          "data": {
            "text/plain": [
              "<matplotlib.axes._subplots.AxesSubplot at 0x7f52cca4e890>"
            ]
          },
          "metadata": {},
          "execution_count": 5
        },
        {
          "output_type": "display_data",
          "data": {
            "text/plain": [
              "<Figure size 432x288 with 1 Axes>"
            ],
            "image/png": "[encoded data removed]"
          },
          "metadata": {
            "needs_background": "light"
          }
        }
      ]
    },
    {
      "cell_type": "markdown",
      "source": [
        "Visualize the valrious features' relationship with the LABEL column in histograms. To do so, split the features into categories for simplicity."
      ],
      "metadata": {
        "id": "86HlZuVSCdVP"
      }
    },
    {
      "cell_type": "code",
      "source": [
        "# Split sminilar features into groups\n",
        "\n",
        "Misc_Features = [\"TONDUR\", \"MILEAGE\", \"TACHOMETER_IN_KM\"]\n",
        "Engine_Speed = [\"EngSpDist_K1\", \"EngSpDist_K2\", \"EngSpDist_K3\", \"EngSpDist_K4\", \"EngSpDist_K5\", \"EngSpDist_K6\", \"EngSpDist_K7\", \n",
        "                \"EngSpDist_K8\", \"EngSpDist_K9\", \"EngSpDist_K10\", \"EngSpDist_K11\", \"EngSpDist_K12\", \"EngSpDist_K13\", \"EngSpDist_K14\"]\n",
        "District_Temp = [\"AmbTempDist_K1\", \"AmbTempDist_K2\", \"AmbTempDist_K3\", \"AmbTempDist_K4\", \"AmbTempDist_K5\", \n",
        "                        \"AmbTempDist_K6\", \"AmbTempDist_K7\", \"AmbTempDist_K8\", \"AmbTempDist_K9\", \"AmbTempDist_K10\"]"
      ],
      "metadata": {
        "id": "UCYXwgV99DNM"
      },
      "execution_count": 6,
      "outputs": []
    },
    {
      "cell_type": "code",
      "source": [
        "# Plot histograms of the first category of features\n",
        "\n",
        "fig, axs = plt.subplots(2, 3, figsize=(10,3.5))\n",
        "sns.histplot(df[df[\"LABEL\"]==\"NO_DAMAGE\"][Misc_Features[0]], bins=100, color=\"blue\", label=\"NO_DAMAGE\", ax=axs[0,0])\n",
        "sns.histplot(df[df[\"LABEL\"]==\"DAMAGE\"][Misc_Features[0]], bins=100, color=\"red\", label=\"DAMAGE\", ax=axs[1,0])\n",
        "sns.histplot(df[df[\"LABEL\"]==\"NO_DAMAGE\"][Misc_Features[1]], bins=100, color=\"blue\", label=\"NO_DAMAGE\", ax=axs[0,1])\n",
        "sns.histplot(df[df[\"LABEL\"]==\"DAMAGE\"][Misc_Features[1]], bins=100, color=\"red\", label=\"DAMAGE\", ax=axs[1,1])\n",
        "sns.histplot(df[df[\"LABEL\"]==\"NO_DAMAGE\"][Misc_Features[2]], bins=100, color=\"blue\", label=\"NO_DAMAGE\", ax=axs[0,2])\n",
        "sns.histplot(df[df[\"LABEL\"]==\"DAMAGE\"][Misc_Features[2]], bins=100, color=\"red\", label=\"DAMAGE\", ax=axs[1,2])"
      ],
      "metadata": {
        "colab": {
          "base_uri": "https://localhost:8080/",
          "height": 272
        },
        "id": "Sx90mhxDKrfq",
        "outputId": "8ce1ed53-e7c2-4844-f4df-f192769cac19"
      },
      "execution_count": 7,
      "outputs": [
        {
          "output_type": "execute_result",
          "data": {
            "text/plain": [
              "<matplotlib.axes._subplots.AxesSubplot at 0x7f52cc403cd0>"
            ]
          },
          "metadata": {},
          "execution_count": 7
        },
        {
          "output_type": "display_data",
          "data": {
            "text/plain": [
              "<Figure size 720x252 with 6 Axes>"
            ],
            "image/png": "[encoded data removed]"
          },
          "metadata": {
            "needs_background": "light"
          }
        }
      ]
    },
    {
      "cell_type": "code",
      "source": [
        "# Plot histograms for the second set of features, gives information about the idling time in different districts.\n",
        "\n",
        "fig, axs = plt.subplots(3, 5, figsize=(15,10))\n",
        "sns.histplot(df[df[\"LABEL\"]==\"NO_DAMAGE\"][Engine_Speed[0]], bins=100, color=\"blue\", label=\"NO_DAMAGE\", ax=axs[0,0])\n",
        "sns.histplot(df[df[\"LABEL\"]==\"DAMAGE\"][Engine_Speed[0]], bins=100, color=\"red\", label=\"DAMAGE\", ax=axs[0,0])\n",
        "sns.histplot(df[df[\"LABEL\"]==\"NO_DAMAGE\"][Engine_Speed[1]], bins=100, color=\"blue\", label=\"NO_DAMAGE\", ax=axs[0,1])\n",
        "sns.histplot(df[df[\"LABEL\"]==\"DAMAGE\"][Engine_Speed[1]], bins=100, color=\"red\", label=\"DAMAGE\", ax=axs[0,1])\n",
        "sns.histplot(df[df[\"LABEL\"]==\"NO_DAMAGE\"][Engine_Speed[2]], bins=100, color=\"blue\", label=\"NO_DAMAGE\", ax=axs[0,2])\n",
        "sns.histplot(df[df[\"LABEL\"]==\"DAMAGE\"][Engine_Speed[2]], bins=100, color=\"red\", label=\"DAMAGE\", ax=axs[0,2])\n",
        "sns.histplot(df[df[\"LABEL\"]==\"NO_DAMAGE\"][Engine_Speed[3]], bins=100, color=\"blue\", label=\"NO_DAMAGE\", ax=axs[0,3])\n",
        "sns.histplot(df[df[\"LABEL\"]==\"DAMAGE\"][Engine_Speed[3]], bins=100, color=\"red\", label=\"DAMAGE\", ax=axs[0,3])\n",
        "sns.histplot(df[df[\"LABEL\"]==\"NO_DAMAGE\"][Engine_Speed[4]], bins=100, color=\"blue\", label=\"NO_DAMAGE\", ax=axs[0,4])\n",
        "sns.histplot(df[df[\"LABEL\"]==\"DAMAGE\"][Engine_Speed[4]], bins=100, color=\"red\", label=\"DAMAGE\", ax=axs[0,4])\n",
        "sns.histplot(df[df[\"LABEL\"]==\"NO_DAMAGE\"][Engine_Speed[5]], bins=100, color=\"blue\", label=\"NO_DAMAGE\", ax=axs[1,0])\n",
        "sns.histplot(df[df[\"LABEL\"]==\"DAMAGE\"][Engine_Speed[5]], bins=100, color=\"red\", label=\"DAMAGE\", ax=axs[1,0])\n",
        "sns.histplot(df[df[\"LABEL\"]==\"NO_DAMAGE\"][Engine_Speed[6]], bins=100, color=\"blue\", label=\"NO_DAMAGE\", ax=axs[1,1])\n",
        "sns.histplot(df[df[\"LABEL\"]==\"DAMAGE\"][Engine_Speed[6]], bins=100, color=\"red\", label=\"DAMAGE\", ax=axs[1,1])\n",
        "sns.histplot(df[df[\"LABEL\"]==\"NO_DAMAGE\"][Engine_Speed[7]], bins=100, color=\"blue\", label=\"NO_DAMAGE\", ax=axs[1,2])\n",
        "sns.histplot(df[df[\"LABEL\"]==\"DAMAGE\"][Engine_Speed[7]], bins=100, color=\"red\", label=\"DAMAGE\", ax=axs[1,2])\n",
        "sns.histplot(df[df[\"LABEL\"]==\"NO_DAMAGE\"][Engine_Speed[8]], bins=100, color=\"blue\", label=\"NO_DAMAGE\", ax=axs[1,3])\n",
        "sns.histplot(df[df[\"LABEL\"]==\"DAMAGE\"][Engine_Speed[8]], bins=100, color=\"red\", label=\"DAMAGE\", ax=axs[1,3])\n",
        "sns.histplot(df[df[\"LABEL\"]==\"NO_DAMAGE\"][Engine_Speed[9]], bins=100, color=\"blue\", label=\"NO_DAMAGE\", ax=axs[1,4])\n",
        "sns.histplot(df[df[\"LABEL\"]==\"DAMAGE\"][Engine_Speed[9]], bins=100, color=\"red\", label=\"DAMAGE\", ax=axs[1,4])\n",
        "sns.histplot(df[df[\"LABEL\"]==\"NO_DAMAGE\"][Engine_Speed[10]], bins=100, color=\"blue\", label=\"NO_DAMAGE\", ax=axs[2,0])\n",
        "sns.histplot(df[df[\"LABEL\"]==\"DAMAGE\"][Engine_Speed[10]], bins=100, color=\"red\", label=\"DAMAGE\", ax=axs[2,0])\n",
        "sns.histplot(df[df[\"LABEL\"]==\"NO_DAMAGE\"][Engine_Speed[11]], bins=100, color=\"blue\", label=\"NO_DAMAGE\", ax=axs[2,1])\n",
        "sns.histplot(df[df[\"LABEL\"]==\"DAMAGE\"][Engine_Speed[11]], bins=100, color=\"red\", label=\"DAMAGE\", ax=axs[2,1])\n",
        "sns.histplot(df[df[\"LABEL\"]==\"NO_DAMAGE\"][Engine_Speed[12]], bins=100, color=\"blue\", label=\"NO_DAMAGE\", ax=axs[2,2])\n",
        "sns.histplot(df[df[\"LABEL\"]==\"DAMAGE\"][Engine_Speed[12]], bins=100, color=\"red\", label=\"DAMAGE\", ax=axs[2,2])\n",
        "sns.histplot(df[df[\"LABEL\"]==\"NO_DAMAGE\"][Engine_Speed[13]], bins=100, color=\"blue\", label=\"NO_DAMAGE\", ax=axs[2,3])\n",
        "sns.histplot(df[df[\"LABEL\"]==\"DAMAGE\"][Engine_Speed[13]], bins=100, color=\"red\", label=\"DAMAGE\", ax=axs[2,3])"
      ],
      "metadata": {
        "colab": {
          "base_uri": "https://localhost:8080/",
          "height": 626
        },
        "id": "HHFIKS8ROzze",
        "outputId": "31e1ffce-17ab-4ac7-9c64-114e30a3be72"
      },
      "execution_count": 8,
      "outputs": [
        {
          "output_type": "execute_result",
          "data": {
            "text/plain": [
              "<matplotlib.axes._subplots.AxesSubplot at 0x7f52cb860c90>"
            ]
          },
          "metadata": {},
          "execution_count": 8
        },
        {
          "output_type": "display_data",
          "data": {
            "text/plain": [
              "<Figure size 1080x720 with 15 Axes>"
            ],
            "image/png": "[encoded data removed]"
          },
          "metadata": {
            "needs_background": "light"
          }
        }
      ]
    },
    {
      "cell_type": "markdown",
      "source": [
        "Consider only the first four columns, i.e., EngSpDist_K1, EngSpDist_K2, EngSpDist_K3, EngSpDist_K4 for further analysis since the range of values is more. The others have a very narrow range and wouldn't contribute much to the predictions."
      ],
      "metadata": {
        "id": "RxNFS8ZXvc7k"
      }
    },
    {
      "cell_type": "code",
      "source": [
        "# Plot histograms for the second set of features, gives information about the idling time in different districts.\n",
        "\n",
        "fig, axs = plt.subplots(2, 4, figsize=(10,3.5))\n",
        "sns.histplot(df[df[\"LABEL\"]==\"NO_DAMAGE\"][Engine_Speed[0]], bins=100, color=\"blue\", label=\"NO_DAMAGE\", ax=axs[0,0])\n",
        "sns.histplot(df[df[\"LABEL\"]==\"DAMAGE\"][Engine_Speed[0]], bins=100, color=\"red\", label=\"DAMAGE\", ax=axs[1,0])\n",
        "sns.histplot(df[df[\"LABEL\"]==\"NO_DAMAGE\"][Engine_Speed[1]], bins=100, color=\"blue\", label=\"NO_DAMAGE\", ax=axs[0,1])\n",
        "sns.histplot(df[df[\"LABEL\"]==\"DAMAGE\"][Engine_Speed[1]], bins=100, color=\"red\", label=\"DAMAGE\", ax=axs[1,1])\n",
        "sns.histplot(df[df[\"LABEL\"]==\"NO_DAMAGE\"][Engine_Speed[2]], bins=100, color=\"blue\", label=\"NO_DAMAGE\", ax=axs[0,2])\n",
        "sns.histplot(df[df[\"LABEL\"]==\"DAMAGE\"][Engine_Speed[2]], bins=100, color=\"red\", label=\"DAMAGE\", ax=axs[1,2])\n",
        "sns.histplot(df[df[\"LABEL\"]==\"NO_DAMAGE\"][Engine_Speed[3]], bins=100, color=\"blue\", label=\"NO_DAMAGE\", ax=axs[0,3])\n",
        "sns.histplot(df[df[\"LABEL\"]==\"DAMAGE\"][Engine_Speed[3]], bins=100, color=\"red\", label=\"DAMAGE\", ax=axs[1,3])"
      ],
      "metadata": {
        "colab": {
          "base_uri": "https://localhost:8080/",
          "height": 270
        },
        "id": "wKZKT5iufMI1",
        "outputId": "0090e219-8a2c-4545-d128-0f02ac77e7b2"
      },
      "execution_count": 9,
      "outputs": [
        {
          "output_type": "execute_result",
          "data": {
            "text/plain": [
              "<matplotlib.axes._subplots.AxesSubplot at 0x7f52c93f2510>"
            ]
          },
          "metadata": {},
          "execution_count": 9
        },
        {
          "output_type": "display_data",
          "data": {
            "text/plain": [
              "<Figure size 720x252 with 8 Axes>"
            ],
            "image/png": "[encoded data removed]"
          },
          "metadata": {
            "needs_background": "light"
          }
        }
      ]
    },
    {
      "cell_type": "code",
      "source": [
        "# Drop the unwanted columns.\n",
        "df.drop(labels=[\"EngSpDist_K5\", \"EngSpDist_K6\", \"EngSpDist_K7\", \"EngSpDist_K8\", \"EngSpDist_K9\", \n",
        "       \"EngSpDist_K10\", \"EngSpDist_K11\", \"EngSpDist_K12\", \"EngSpDist_K13\", \"EngSpDist_K14\"], axis=1, inplace=True)"
      ],
      "metadata": {
        "id": "YbYfxwg0v2lr"
      },
      "execution_count": 10,
      "outputs": []
    },
    {
      "cell_type": "code",
      "source": [
        "# Plot histograms for the third set of features, gives information about the time spent in different temperatures.\n",
        "\n",
        "fig, axs = plt.subplots(3, 4, figsize=(15,10))\n",
        "sns.histplot(df[df[\"LABEL\"]==\"NO_DAMAGE\"][District_Temp[0]], bins=100, color=\"blue\", label=\"NO_DAMAGE\", ax=axs[0,0])\n",
        "sns.histplot(df[df[\"LABEL\"]==\"DAMAGE\"][District_Temp[0]], bins=100, color=\"red\", label=\"DAMAGE\", ax=axs[0,0])\n",
        "sns.histplot(df[df[\"LABEL\"]==\"NO_DAMAGE\"][District_Temp[1]], bins=100, color=\"blue\", label=\"NO_DAMAGE\", ax=axs[0,1])\n",
        "sns.histplot(df[df[\"LABEL\"]==\"DAMAGE\"][District_Temp[1]], bins=100, color=\"red\", label=\"DAMAGE\", ax=axs[0,1])\n",
        "sns.histplot(df[df[\"LABEL\"]==\"NO_DAMAGE\"][District_Temp[2]], bins=100, color=\"blue\", label=\"NO_DAMAGE\", ax=axs[0,2])\n",
        "sns.histplot(df[df[\"LABEL\"]==\"DAMAGE\"][District_Temp[2]], bins=100, color=\"red\", label=\"DAMAGE\", ax=axs[0,2])\n",
        "sns.histplot(df[df[\"LABEL\"]==\"NO_DAMAGE\"][District_Temp[3]], bins=100, color=\"blue\", label=\"NO_DAMAGE\", ax=axs[0,3])\n",
        "sns.histplot(df[df[\"LABEL\"]==\"DAMAGE\"][District_Temp[3]], bins=100, color=\"red\", label=\"DAMAGE\", ax=axs[0,3])\n",
        "sns.histplot(df[df[\"LABEL\"]==\"NO_DAMAGE\"][District_Temp[4]], bins=100, color=\"blue\", label=\"NO_DAMAGE\", ax=axs[1,0])\n",
        "sns.histplot(df[df[\"LABEL\"]==\"DAMAGE\"][District_Temp[4]], bins=100, color=\"red\", label=\"DAMAGE\", ax=axs[1,0])\n",
        "sns.histplot(df[df[\"LABEL\"]==\"NO_DAMAGE\"][District_Temp[5]], bins=100, color=\"blue\", label=\"NO_DAMAGE\", ax=axs[1,1])\n",
        "sns.histplot(df[df[\"LABEL\"]==\"DAMAGE\"][District_Temp[5]], bins=100, color=\"red\", label=\"DAMAGE\", ax=axs[1,1])\n",
        "sns.histplot(df[df[\"LABEL\"]==\"NO_DAMAGE\"][District_Temp[6]], bins=100, color=\"blue\", label=\"NO_DAMAGE\", ax=axs[1,2])\n",
        "sns.histplot(df[df[\"LABEL\"]==\"DAMAGE\"][District_Temp[6]], bins=100, color=\"red\", label=\"DAMAGE\", ax=axs[1,2])\n",
        "sns.histplot(df[df[\"LABEL\"]==\"NO_DAMAGE\"][District_Temp[7]], bins=100, color=\"blue\", label=\"NO_DAMAGE\", ax=axs[1,3])\n",
        "sns.histplot(df[df[\"LABEL\"]==\"DAMAGE\"][District_Temp[7]], bins=100, color=\"red\", label=\"DAMAGE\", ax=axs[1,3])\n",
        "sns.histplot(df[df[\"LABEL\"]==\"NO_DAMAGE\"][District_Temp[8]], bins=100, color=\"blue\", label=\"NO_DAMAGE\", ax=axs[2,0])\n",
        "sns.histplot(df[df[\"LABEL\"]==\"DAMAGE\"][District_Temp[8]], bins=100, color=\"red\", label=\"DAMAGE\", ax=axs[2,0])\n",
        "sns.histplot(df[df[\"LABEL\"]==\"NO_DAMAGE\"][District_Temp[9]], bins=100, color=\"blue\", label=\"NO_DAMAGE\", ax=axs[2,1])\n",
        "sns.histplot(df[df[\"LABEL\"]==\"DAMAGE\"][District_Temp[9]], bins=100, color=\"red\", label=\"DAMAGE\", ax=axs[2,1])"
      ],
      "metadata": {
        "colab": {
          "base_uri": "https://localhost:8080/",
          "height": 623
        },
        "id": "JQ0-dfwIdotb",
        "outputId": "dc884287-9965-4d16-bde8-cf20c6ea9a2d"
      },
      "execution_count": 11,
      "outputs": [
        {
          "output_type": "execute_result",
          "data": {
            "text/plain": [
              "<matplotlib.axes._subplots.AxesSubplot at 0x7f52c883db10>"
            ]
          },
          "metadata": {},
          "execution_count": 11
        },
        {
          "output_type": "display_data",
          "data": {
            "text/plain": [
              "<Figure size 1080x720 with 12 Axes>"
            ],
            "image/png": "[encoded data removed]"
          },
          "metadata": {
            "needs_background": "light"
          }
        }
      ]
    },
    {
      "cell_type": "markdown",
      "source": [
        "Here also further consider only the four columns, i.e., AmbTempDist_K6, AmbTempDist_K7, AmbTempDist_K8, AmbTempDist_K9 for further analysis since the range of values is more. The others have a very narrow range to give a good picture."
      ],
      "metadata": {
        "id": "_obUMe2AwynV"
      }
    },
    {
      "cell_type": "code",
      "source": [
        "# Plot histograms for the third set of features, gives information about the time spent in different temperatures.\n",
        "\n",
        "fig, axs = plt.subplots(2, 4, figsize=(10,3.5))\n",
        "sns.histplot(df[df[\"LABEL\"]==\"NO_DAMAGE\"][District_Temp[5]], bins=100, color=\"blue\", label=\"NO_DAMAGE\", ax=axs[0,0])\n",
        "sns.histplot(df[df[\"LABEL\"]==\"DAMAGE\"][District_Temp[5]], bins=100, color=\"red\", label=\"DAMAGE\", ax=axs[1,0])\n",
        "sns.histplot(df[df[\"LABEL\"]==\"NO_DAMAGE\"][District_Temp[6]], bins=100, color=\"blue\", label=\"NO_DAMAGE\", ax=axs[0,1])\n",
        "sns.histplot(df[df[\"LABEL\"]==\"DAMAGE\"][District_Temp[6]], bins=100, color=\"red\", label=\"DAMAGE\", ax=axs[1,1])\n",
        "sns.histplot(df[df[\"LABEL\"]==\"NO_DAMAGE\"][District_Temp[7]], bins=100, color=\"blue\", label=\"NO_DAMAGE\", ax=axs[0,2])\n",
        "sns.histplot(df[df[\"LABEL\"]==\"DAMAGE\"][District_Temp[7]], bins=100, color=\"red\", label=\"DAMAGE\", ax=axs[1,2])\n",
        "sns.histplot(df[df[\"LABEL\"]==\"NO_DAMAGE\"][District_Temp[8]], bins=100, color=\"blue\", label=\"NO_DAMAGE\", ax=axs[0,3])\n",
        "sns.histplot(df[df[\"LABEL\"]==\"DAMAGE\"][District_Temp[8]], bins=100, color=\"red\", label=\"DAMAGE\", ax=axs[1,3])"
      ],
      "metadata": {
        "colab": {
          "base_uri": "https://localhost:8080/",
          "height": 272
        },
        "id": "8OuAjeP0f-Ke",
        "outputId": "9ecf95eb-257a-4eba-dd31-6df18c52b042"
      },
      "execution_count": 12,
      "outputs": [
        {
          "output_type": "execute_result",
          "data": {
            "text/plain": [
              "<matplotlib.axes._subplots.AxesSubplot at 0x7f52c6cb3290>"
            ]
          },
          "metadata": {},
          "execution_count": 12
        },
        {
          "output_type": "display_data",
          "data": {
            "text/plain": [
              "<Figure size 720x252 with 8 Axes>"
            ],
            "image/png": "[encoded data removed]"
          },
          "metadata": {
            "needs_background": "light"
          }
        }
      ]
    },
    {
      "cell_type": "code",
      "source": [
        "# Drop unwanted columns.\n",
        "df.drop(labels=[\"AmbTempDist_K1\", \"AmbTempDist_K2\", \"AmbTempDist_K3\", \"AmbTempDist_K4\", \"AmbTempDist_K5\", \"AmbTempDist_K10\"], axis=1, inplace=True)"
      ],
      "metadata": {
        "id": "NWs3RGe3xEO9"
      },
      "execution_count": 13,
      "outputs": []
    },
    {
      "cell_type": "markdown",
      "source": [
        "Also exclude the DIAGNOSIS_DATE, REPAIR_DATE and PSEUDO_VIN since they cannot help much in predicting damages. (Wanted to see the dates when most repairs were noted using SQL, but couldn't import SQL. Can be done using Python itself, but I assume the adtes are evenly distributed and moved on.)"
      ],
      "metadata": {
        "id": "zoNETGvLztTw"
      }
    },
    {
      "cell_type": "code",
      "source": [
        "df.drop(labels=[\"PSEUDO_VIN\", \"DIAGNOSIS_DATE\", \"REPAIR_DATE\"], axis=1, inplace=True)"
      ],
      "metadata": {
        "id": "yMHBJoDt_8Hn"
      },
      "execution_count": 14,
      "outputs": []
    },
    {
      "cell_type": "code",
      "source": [
        "df.dtypes"
      ],
      "metadata": {
        "colab": {
          "base_uri": "https://localhost:8080/"
        },
        "id": "4wkipScPfrEh",
        "outputId": "867d452f-36d1-4158-a8a7-75c7012047f1"
      },
      "execution_count": 15,
      "outputs": [
        {
          "output_type": "execute_result",
          "data": {
            "text/plain": [
              "TONDUR              float64\n",
              "EngSpDist_K1        float64\n",
              "EngSpDist_K2        float64\n",
              "EngSpDist_K3        float64\n",
              "EngSpDist_K4        float64\n",
              "AmbTempDist_K6        int64\n",
              "AmbTempDist_K7        int64\n",
              "AmbTempDist_K8        int64\n",
              "AmbTempDist_K9        int64\n",
              "MILEAGE               int64\n",
              "TACHOMETER_IN_KM    float64\n",
              "LABEL                object\n",
              "dtype: object"
            ]
          },
          "metadata": {},
          "execution_count": 15
        }
      ]
    },
    {
      "cell_type": "code",
      "source": [
        "df.describe()"
      ],
      "metadata": {
        "colab": {
          "base_uri": "https://localhost:8080/",
          "height": 364
        },
        "id": "VrqCfK1J3yyO",
        "outputId": "d3a1710e-9bb3-4e27-d633-bb6923d6197d"
      },
      "execution_count": 16,
      "outputs": [
        {
          "output_type": "execute_result",
          "data": {
            "text/plain": [
              "             TONDUR  EngSpDist_K1  EngSpDist_K2  EngSpDist_K3   EngSpDist_K4  \\\n",
              "count  5.777000e+03  5.777000e+03  5.777000e+03  5.777000e+03    5777.000000   \n",
              "mean   1.638604e+06  6.949810e+05  5.659570e+05  1.523329e+05   17916.948520   \n",
              "std    1.478634e+06  7.280069e+05  5.510523e+05  1.698033e+05   31982.030334   \n",
              "min    1.692310e+04  4.641300e+03  4.066000e+02  3.030000e+01      10.400000   \n",
              "25%    6.443811e+05  2.352837e+05  1.947698e+05  4.601980e+04    3302.400000   \n",
              "50%    1.167932e+06  4.634370e+05  3.886051e+05  9.958480e+04    8232.300000   \n",
              "75%    2.111713e+06  8.623770e+05  7.292884e+05  1.953351e+05   19650.900000   \n",
              "max    1.151146e+07  6.959281e+06  4.262310e+06  2.453757e+06  646982.900000   \n",
              "\n",
              "       AmbTempDist_K6  AmbTempDist_K7  AmbTempDist_K8  AmbTempDist_K9  \\\n",
              "count     5777.000000     5777.000000     5777.000000     5777.000000   \n",
              "mean       107.391726      331.057989      507.202527      194.065605   \n",
              "std        182.867761      330.765296      447.363231      282.863019   \n",
              "min          0.000000        0.000000        0.000000        0.000000   \n",
              "25%         10.000000      113.000000      206.000000       19.000000   \n",
              "50%         36.000000      226.000000      376.000000       87.000000   \n",
              "75%        128.000000      433.000000      652.000000      250.000000   \n",
              "max       2592.000000     3874.000000     5947.000000     2579.000000   \n",
              "\n",
              "             MILEAGE  TACHOMETER_IN_KM  \n",
              "count    5777.000000        336.000000  \n",
              "mean    13322.323524      30366.226190  \n",
              "std     13254.917856      17811.425833  \n",
              "min      1002.000000       1873.000000  \n",
              "25%      4485.000000      17586.250000  \n",
              "50%      9330.000000      26821.000000  \n",
              "75%     17187.000000      40978.000000  \n",
              "max    157940.000000     115314.000000  "
            ],
            "text/html": [
              "\n",
              "  <div id=\"df-7bbe3a03-d712-45f8-a37c-ed610599dd25\">\n",
              "    <div class=\"colab-df-container\">\n",
              "      <div>\n",
              "<style scoped>\n",
              "    .dataframe tbody tr th:only-of-type {\n",
              "        vertical-align: middle;\n",
              "    }\n",
              "\n",
              "    .dataframe tbody tr th {\n",
              "        vertical-align: top;\n",
              "    }\n",
              "\n",
              "    .dataframe thead th {\n",
              "        text-align: right;\n",
              "    }\n",
              "</style>\n",
              "<table border=\"1\" class=\"dataframe\">\n",
              "  <thead>\n",
              "    <tr style=\"text-align: right;\">\n",
              "      <th></th>\n",
              "      <th>TONDUR</th>\n",
              "      <th>EngSpDist_K1</th>\n",
              "      <th>EngSpDist_K2</th>\n",
              "      <th>EngSpDist_K3</th>\n",
              "      <th>EngSpDist_K4</th>\n",
              "      <th>AmbTempDist_K6</th>\n",
              "      <th>AmbTempDist_K7</th>\n",
              "      <th>AmbTempDist_K8</th>\n",
              "      <th>AmbTempDist_K9</th>\n",
              "      <th>MILEAGE</th>\n",
              "      <th>TACHOMETER_IN_KM</th>\n",
              "    </tr>\n",
              "  </thead>\n",
              "  <tbody>\n",
              "    <tr>\n",
              "      <th>count</th>\n",
              "      <td>5.777000e+03</td>\n",
              "      <td>5.777000e+03</td>\n",
              "      <td>5.777000e+03</td>\n",
              "      <td>5.777000e+03</td>\n",
              "      <td>5777.000000</td>\n",
              "      <td>5777.000000</td>\n",
              "      <td>5777.000000</td>\n",
              "      <td>5777.000000</td>\n",
              "      <td>5777.000000</td>\n",
              "      <td>5777.000000</td>\n",
              "      <td>336.000000</td>\n",
              "    </tr>\n",
              "    <tr>\n",
              "      <th>mean</th>\n",
              "      <td>1.638604e+06</td>\n",
              "      <td>6.949810e+05</td>\n",
              "      <td>5.659570e+05</td>\n",
              "      <td>1.523329e+05</td>\n",
              "      <td>17916.948520</td>\n",
              "      <td>107.391726</td>\n",
              "      <td>331.057989</td>\n",
              "      <td>507.202527</td>\n",
              "      <td>194.065605</td>\n",
              "      <td>13322.323524</td>\n",
              "      <td>30366.226190</td>\n",
              "    </tr>\n",
              "    <tr>\n",
              "      <th>std</th>\n",
              "      <td>1.478634e+06</td>\n",
              "      <td>7.280069e+05</td>\n",
              "      <td>5.510523e+05</td>\n",
              "      <td>1.698033e+05</td>\n",
              "      <td>31982.030334</td>\n",
              "      <td>182.867761</td>\n",
              "      <td>330.765296</td>\n",
              "      <td>447.363231</td>\n",
              "      <td>282.863019</td>\n",
              "      <td>13254.917856</td>\n",
              "      <td>17811.425833</td>\n",
              "    </tr>\n",
              "    <tr>\n",
              "      <th>min</th>\n",
              "      <td>1.692310e+04</td>\n",
              "      <td>4.641300e+03</td>\n",
              "      <td>4.066000e+02</td>\n",
              "      <td>3.030000e+01</td>\n",
              "      <td>10.400000</td>\n",
              "      <td>0.000000</td>\n",
              "      <td>0.000000</td>\n",
              "      <td>0.000000</td>\n",
              "      <td>0.000000</td>\n",
              "      <td>1002.000000</td>\n",
              "      <td>1873.000000</td>\n",
              "    </tr>\n",
              "    <tr>\n",
              "      <th>25%</th>\n",
              "      <td>6.443811e+05</td>\n",
              "      <td>2.352837e+05</td>\n",
              "      <td>1.947698e+05</td>\n",
              "      <td>4.601980e+04</td>\n",
              "      <td>3302.400000</td>\n",
              "      <td>10.000000</td>\n",
              "      <td>113.000000</td>\n",
              "      <td>206.000000</td>\n",
              "      <td>19.000000</td>\n",
              "      <td>4485.000000</td>\n",
              "      <td>17586.250000</td>\n",
              "    </tr>\n",
              "    <tr>\n",
              "      <th>50%</th>\n",
              "      <td>1.167932e+06</td>\n",
              "      <td>4.634370e+05</td>\n",
              "      <td>3.886051e+05</td>\n",
              "      <td>9.958480e+04</td>\n",
              "      <td>8232.300000</td>\n",
              "      <td>36.000000</td>\n",
              "      <td>226.000000</td>\n",
              "      <td>376.000000</td>\n",
              "      <td>87.000000</td>\n",
              "      <td>9330.000000</td>\n",
              "      <td>26821.000000</td>\n",
              "    </tr>\n",
              "    <tr>\n",
              "      <th>75%</th>\n",
              "      <td>2.111713e+06</td>\n",
              "      <td>8.623770e+05</td>\n",
              "      <td>7.292884e+05</td>\n",
              "      <td>1.953351e+05</td>\n",
              "      <td>19650.900000</td>\n",
              "      <td>128.000000</td>\n",
              "      <td>433.000000</td>\n",
              "      <td>652.000000</td>\n",
              "      <td>250.000000</td>\n",
              "      <td>17187.000000</td>\n",
              "      <td>40978.000000</td>\n",
              "    </tr>\n",
              "    <tr>\n",
              "      <th>max</th>\n",
              "      <td>1.151146e+07</td>\n",
              "      <td>6.959281e+06</td>\n",
              "      <td>4.262310e+06</td>\n",
              "      <td>2.453757e+06</td>\n",
              "      <td>646982.900000</td>\n",
              "      <td>2592.000000</td>\n",
              "      <td>3874.000000</td>\n",
              "      <td>5947.000000</td>\n",
              "      <td>2579.000000</td>\n",
              "      <td>157940.000000</td>\n",
              "      <td>115314.000000</td>\n",
              "    </tr>\n",
              "  </tbody>\n",
              "</table>\n",
              "</div>\n",
              "      <button class=\"colab-df-convert\" onclick=\"convertToInteractive('df-7bbe3a03-d712-45f8-a37c-ed610599dd25')\"\n",
              "              title=\"Convert this dataframe to an interactive table.\"\n",
              "              style=\"display:none;\">\n",
              "        \n",
              "  <svg xmlns=\"http://www.w3.org/2000/svg\" height=\"24px\"viewBox=\"0 0 24 24\"\n",
              "       width=\"24px\">\n",
              "    <path d=\"M0 0h24v24H0V0z\" fill=\"none\"/>\n",
              "    <path d=\"M18.56 5.44l.94 2.06.94-2.06 2.06-.94-2.06-.94-.94-2.06-.94 2.06-2.06.94zm-11 1L8.5 8.5l.94-2.06 2.06-.94-2.06-.94L8.5 2.5l-.94 2.06-2.06.94zm10 10l.94 2.06.94-2.06 2.06-.94-2.06-.94-.94-2.06-.94 2.06-2.06.94z\"/><path d=\"M17.41 7.96l-1.37-1.37c-.4-.4-.92-.59-1.43-.59-.52 0-1.04.2-1.43.59L10.3 9.45l-7.72 7.72c-.78.78-.78 2.05 0 2.83L4 21.41c.39.39.9.59 1.41.59.51 0 1.02-.2 1.41-.59l7.78-7.78 2.81-2.81c.8-.78.8-2.07 0-2.86zM5.41 20L4 18.59l7.72-7.72 1.47 1.35L5.41 20z\"/>\n",
              "  </svg>\n",
              "      </button>\n",
              "      \n",
              "  <style>\n",
              "    .colab-df-container {\n",
              "      display:flex;\n",
              "      flex-wrap:wrap;\n",
              "      gap: 12px;\n",
              "    }\n",
              "\n",
              "    .colab-df-convert {\n",
              "      background-color: #E8F0FE;\n",
              "      border: none;\n",
              "      border-radius: 50%;\n",
              "      cursor: pointer;\n",
              "      display: none;\n",
              "      fill: #1967D2;\n",
              "      height: 32px;\n",
              "      padding: 0 0 0 0;\n",
              "      width: 32px;\n",
              "    }\n",
              "\n",
              "    .colab-df-convert:hover {\n",
              "      background-color: #E2EBFA;\n",
              "      box-shadow: 0px 1px 2px rgba(60, 64, 67, 0.3), 0px 1px 3px 1px rgba(60, 64, 67, 0.15);\n",
              "      fill: #174EA6;\n",
              "    }\n",
              "\n",
              "    [theme=dark] .colab-df-convert {\n",
              "      background-color: #3B4455;\n",
              "      fill: #D2E3FC;\n",
              "    }\n",
              "\n",
              "    [theme=dark] .colab-df-convert:hover {\n",
              "      background-color: #434B5C;\n",
              "      box-shadow: 0px 1px 3px 1px rgba(0, 0, 0, 0.15);\n",
              "      filter: drop-shadow(0px 1px 2px rgba(0, 0, 0, 0.3));\n",
              "      fill: #FFFFFF;\n",
              "    }\n",
              "  </style>\n",
              "\n",
              "      <script>\n",
              "        const buttonEl =\n",
              "          document.querySelector('#df-7bbe3a03-d712-45f8-a37c-ed610599dd25 button.colab-df-convert');\n",
              "        buttonEl.style.display =\n",
              "          google.colab.kernel.accessAllowed ? 'block' : 'none';\n",
              "\n",
              "        async function convertToInteractive(key) {\n",
              "          const element = document.querySelector('#df-7bbe3a03-d712-45f8-a37c-ed610599dd25');\n",
              "          const dataTable =\n",
              "            await google.colab.kernel.invokeFunction('convertToInteractive',\n",
              "                                                     [key], {});\n",
              "          if (!dataTable) return;\n",
              "\n",
              "          const docLinkHtml = 'Like what you see? Visit the ' +\n",
              "            '<a target=\"_blank\" href=https://colab.research.google.com/notebooks/data_table.ipynb>data table notebook</a>'\n",
              "            + ' to learn more about interactive tables.';\n",
              "          element.innerHTML = '';\n",
              "          dataTable['output_type'] = 'display_data';\n",
              "          await google.colab.output.renderOutput(dataTable, element);\n",
              "          const docLink = document.createElement('div');\n",
              "          docLink.innerHTML = docLinkHtml;\n",
              "          element.appendChild(docLink);\n",
              "        }\n",
              "      </script>\n",
              "    </div>\n",
              "  </div>\n",
              "  "
            ]
          },
          "metadata": {},
          "execution_count": 16
        }
      ]
    },
    {
      "cell_type": "code",
      "source": [
        "df.head()"
      ],
      "metadata": {
        "id": "yQd3UPneHd5P",
        "outputId": "20bc5e65-7f2c-4606-9ee1-469761341226",
        "colab": {
          "base_uri": "https://localhost:8080/",
          "height": 270
        }
      },
      "execution_count": 17,
      "outputs": [
        {
          "output_type": "execute_result",
          "data": {
            "text/plain": [
              "      TONDUR  EngSpDist_K1  EngSpDist_K2  EngSpDist_K3  EngSpDist_K4  \\\n",
              "0  1249456.1      239471.8      443507.3      230166.7       18955.4   \n",
              "1  2221482.5      868673.2      862615.7      154180.3       12707.2   \n",
              "2  3433681.7      822744.4     1954545.1      366699.7       26077.9   \n",
              "3   615134.7      138935.2      209138.3      106259.6       10133.9   \n",
              "4  2141362.5      797644.6      729555.5      242742.9       13288.6   \n",
              "\n",
              "   AmbTempDist_K6  AmbTempDist_K7  AmbTempDist_K8  AmbTempDist_K9  MILEAGE  \\\n",
              "0             317             416             155               0    35008   \n",
              "1             478             479             167               1    14959   \n",
              "2             676             993             261               2    37685   \n",
              "3             169             295             112               2     7054   \n",
              "4             358             750             229               2    19680   \n",
              "\n",
              "   TACHOMETER_IN_KM      LABEL  \n",
              "0               NaN  NO_DAMAGE  \n",
              "1               NaN  NO_DAMAGE  \n",
              "2               NaN  NO_DAMAGE  \n",
              "3               NaN  NO_DAMAGE  \n",
              "4               NaN  NO_DAMAGE  "
            ],
            "text/html": [
              "\n",
              "  <div id=\"df-25ddd9d1-0dce-4578-a978-d06036b27333\">\n",
              "    <div class=\"colab-df-container\">\n",
              "      <div>\n",
              "<style scoped>\n",
              "    .dataframe tbody tr th:only-of-type {\n",
              "        vertical-align: middle;\n",
              "    }\n",
              "\n",
              "    .dataframe tbody tr th {\n",
              "        vertical-align: top;\n",
              "    }\n",
              "\n",
              "    .dataframe thead th {\n",
              "        text-align: right;\n",
              "    }\n",
              "</style>\n",
              "<table border=\"1\" class=\"dataframe\">\n",
              "  <thead>\n",
              "    <tr style=\"text-align: right;\">\n",
              "      <th></th>\n",
              "      <th>TONDUR</th>\n",
              "      <th>EngSpDist_K1</th>\n",
              "      <th>EngSpDist_K2</th>\n",
              "      <th>EngSpDist_K3</th>\n",
              "      <th>EngSpDist_K4</th>\n",
              "      <th>AmbTempDist_K6</th>\n",
              "      <th>AmbTempDist_K7</th>\n",
              "      <th>AmbTempDist_K8</th>\n",
              "      <th>AmbTempDist_K9</th>\n",
              "      <th>MILEAGE</th>\n",
              "      <th>TACHOMETER_IN_KM</th>\n",
              "      <th>LABEL</th>\n",
              "    </tr>\n",
              "  </thead>\n",
              "  <tbody>\n",
              "    <tr>\n",
              "      <th>0</th>\n",
              "      <td>1249456.1</td>\n",
              "      <td>239471.8</td>\n",
              "      <td>443507.3</td>\n",
              "      <td>230166.7</td>\n",
              "      <td>18955.4</td>\n",
              "      <td>317</td>\n",
              "      <td>416</td>\n",
              "      <td>155</td>\n",
              "      <td>0</td>\n",
              "      <td>35008</td>\n",
              "      <td>NaN</td>\n",
              "      <td>NO_DAMAGE</td>\n",
              "    </tr>\n",
              "    <tr>\n",
              "      <th>1</th>\n",
              "      <td>2221482.5</td>\n",
              "      <td>868673.2</td>\n",
              "      <td>862615.7</td>\n",
              "      <td>154180.3</td>\n",
              "      <td>12707.2</td>\n",
              "      <td>478</td>\n",
              "      <td>479</td>\n",
              "      <td>167</td>\n",
              "      <td>1</td>\n",
              "      <td>14959</td>\n",
              "      <td>NaN</td>\n",
              "      <td>NO_DAMAGE</td>\n",
              "    </tr>\n",
              "    <tr>\n",
              "      <th>2</th>\n",
              "      <td>3433681.7</td>\n",
              "      <td>822744.4</td>\n",
              "      <td>1954545.1</td>\n",
              "      <td>366699.7</td>\n",
              "      <td>26077.9</td>\n",
              "      <td>676</td>\n",
              "      <td>993</td>\n",
              "      <td>261</td>\n",
              "      <td>2</td>\n",
              "      <td>37685</td>\n",
              "      <td>NaN</td>\n",
              "      <td>NO_DAMAGE</td>\n",
              "    </tr>\n",
              "    <tr>\n",
              "      <th>3</th>\n",
              "      <td>615134.7</td>\n",
              "      <td>138935.2</td>\n",
              "      <td>209138.3</td>\n",
              "      <td>106259.6</td>\n",
              "      <td>10133.9</td>\n",
              "      <td>169</td>\n",
              "      <td>295</td>\n",
              "      <td>112</td>\n",
              "      <td>2</td>\n",
              "      <td>7054</td>\n",
              "      <td>NaN</td>\n",
              "      <td>NO_DAMAGE</td>\n",
              "    </tr>\n",
              "    <tr>\n",
              "      <th>4</th>\n",
              "      <td>2141362.5</td>\n",
              "      <td>797644.6</td>\n",
              "      <td>729555.5</td>\n",
              "      <td>242742.9</td>\n",
              "      <td>13288.6</td>\n",
              "      <td>358</td>\n",
              "      <td>750</td>\n",
              "      <td>229</td>\n",
              "      <td>2</td>\n",
              "      <td>19680</td>\n",
              "      <td>NaN</td>\n",
              "      <td>NO_DAMAGE</td>\n",
              "    </tr>\n",
              "  </tbody>\n",
              "</table>\n",
              "</div>\n",
              "      <button class=\"colab-df-convert\" onclick=\"convertToInteractive('df-25ddd9d1-0dce-4578-a978-d06036b27333')\"\n",
              "              title=\"Convert this dataframe to an interactive table.\"\n",
              "              style=\"display:none;\">\n",
              "        \n",
              "  <svg xmlns=\"http://www.w3.org/2000/svg\" height=\"24px\"viewBox=\"0 0 24 24\"\n",
              "       width=\"24px\">\n",
              "    <path d=\"M0 0h24v24H0V0z\" fill=\"none\"/>\n",
              "    <path d=\"M18.56 5.44l.94 2.06.94-2.06 2.06-.94-2.06-.94-.94-2.06-.94 2.06-2.06.94zm-11 1L8.5 8.5l.94-2.06 2.06-.94-2.06-.94L8.5 2.5l-.94 2.06-2.06.94zm10 10l.94 2.06.94-2.06 2.06-.94-2.06-.94-.94-2.06-.94 2.06-2.06.94z\"/><path d=\"M17.41 7.96l-1.37-1.37c-.4-.4-.92-.59-1.43-.59-.52 0-1.04.2-1.43.59L10.3 9.45l-7.72 7.72c-.78.78-.78 2.05 0 2.83L4 21.41c.39.39.9.59 1.41.59.51 0 1.02-.2 1.41-.59l7.78-7.78 2.81-2.81c.8-.78.8-2.07 0-2.86zM5.41 20L4 18.59l7.72-7.72 1.47 1.35L5.41 20z\"/>\n",
              "  </svg>\n",
              "      </button>\n",
              "      \n",
              "  <style>\n",
              "    .colab-df-container {\n",
              "      display:flex;\n",
              "      flex-wrap:wrap;\n",
              "      gap: 12px;\n",
              "    }\n",
              "\n",
              "    .colab-df-convert {\n",
              "      background-color: #E8F0FE;\n",
              "      border: none;\n",
              "      border-radius: 50%;\n",
              "      cursor: pointer;\n",
              "      display: none;\n",
              "      fill: #1967D2;\n",
              "      height: 32px;\n",
              "      padding: 0 0 0 0;\n",
              "      width: 32px;\n",
              "    }\n",
              "\n",
              "    .colab-df-convert:hover {\n",
              "      background-color: #E2EBFA;\n",
              "      box-shadow: 0px 1px 2px rgba(60, 64, 67, 0.3), 0px 1px 3px 1px rgba(60, 64, 67, 0.15);\n",
              "      fill: #174EA6;\n",
              "    }\n",
              "\n",
              "    [theme=dark] .colab-df-convert {\n",
              "      background-color: #3B4455;\n",
              "      fill: #D2E3FC;\n",
              "    }\n",
              "\n",
              "    [theme=dark] .colab-df-convert:hover {\n",
              "      background-color: #434B5C;\n",
              "      box-shadow: 0px 1px 3px 1px rgba(0, 0, 0, 0.15);\n",
              "      filter: drop-shadow(0px 1px 2px rgba(0, 0, 0, 0.3));\n",
              "      fill: #FFFFFF;\n",
              "    }\n",
              "  </style>\n",
              "\n",
              "      <script>\n",
              "        const buttonEl =\n",
              "          document.querySelector('#df-25ddd9d1-0dce-4578-a978-d06036b27333 button.colab-df-convert');\n",
              "        buttonEl.style.display =\n",
              "          google.colab.kernel.accessAllowed ? 'block' : 'none';\n",
              "\n",
              "        async function convertToInteractive(key) {\n",
              "          const element = document.querySelector('#df-25ddd9d1-0dce-4578-a978-d06036b27333');\n",
              "          const dataTable =\n",
              "            await google.colab.kernel.invokeFunction('convertToInteractive',\n",
              "                                                     [key], {});\n",
              "          if (!dataTable) return;\n",
              "\n",
              "          const docLinkHtml = 'Like what you see? Visit the ' +\n",
              "            '<a target=\"_blank\" href=https://colab.research.google.com/notebooks/data_table.ipynb>data table notebook</a>'\n",
              "            + ' to learn more about interactive tables.';\n",
              "          element.innerHTML = '';\n",
              "          dataTable['output_type'] = 'display_data';\n",
              "          await google.colab.output.renderOutput(dataTable, element);\n",
              "          const docLink = document.createElement('div');\n",
              "          docLink.innerHTML = docLinkHtml;\n",
              "          element.appendChild(docLink);\n",
              "        }\n",
              "      </script>\n",
              "    </div>\n",
              "  </div>\n",
              "  "
            ]
          },
          "metadata": {},
          "execution_count": 17
        }
      ]
    },
    {
      "cell_type": "code",
      "source": [
        "df.to_csv(\"modified_data.csv\")"
      ],
      "metadata": {
        "id": "QaRE5dRjzeUt"
      },
      "execution_count": 18,
      "outputs": []
    },
    {
      "cell_type": "code",
      "source": [
        "mod_df = pd.read_csv(\"modified_data.csv\")"
      ],
      "metadata": {
        "id": "Tv4lTP0qFP33"
      },
      "execution_count": 19,
      "outputs": []
    },
    {
      "cell_type": "markdown",
      "source": [
        "# Model Selection"
      ],
      "metadata": {
        "id": "-nfGMiQ2Dq8b"
      }
    },
    {
      "cell_type": "code",
      "source": [
        "# Replace the LABEL data with binary numbers.\n",
        "mod_df[\"LABEL\"].replace(\"NO_DAMAGE\", 0, inplace=True)\n",
        "mod_df[\"LABEL\"].replace(\"DAMAGE\", 1, inplace=True)"
      ],
      "metadata": {
        "id": "xXNxCL8BDxH-"
      },
      "execution_count": 20,
      "outputs": []
    },
    {
      "cell_type": "code",
      "source": [
        "# Divide the dataset into the independant and dependant variables.\n",
        "\n",
        "features = [\"TONDUR\", \"EngSpDist_K1\", \"EngSpDist_K2\", \"EngSpDist_K3\", \"EngSpDist_K4\", \n",
        "            \"AmbTempDist_K6\", \"AmbTempDist_K7\", \"AmbTempDist_K8\", \"AmbTempDist_K9\", \"MILEAGE\"]\n",
        "x = mod_df[features]\n",
        "y = mod_df[\"LABEL\"]"
      ],
      "metadata": {
        "id": "FzBsV4zXAHSE"
      },
      "execution_count": 21,
      "outputs": []
    },
    {
      "cell_type": "code",
      "source": [
        "# Split the data into training and testing sets.\n",
        "from sklearn.model_selection import train_test_split\n",
        "xtrain, xtest, ytrain, ytest = train_test_split(x, y, test_size=0.3, random_state=0)"
      ],
      "metadata": {
        "id": "x7_aCELd74nf"
      },
      "execution_count": 22,
      "outputs": []
    },
    {
      "cell_type": "markdown",
      "source": [
        "It is a binary classification model, so I use logistic regression first. Support vector machine (SVM) can also be used in addition to some other models such as decision trees.\n"
      ],
      "metadata": {
        "id": "DYNIemZ7F7Y-"
      }
    },
    {
      "cell_type": "markdown",
      "source": [
        "## Logistic Regression"
      ],
      "metadata": {
        "id": "NRCwozyjouxm"
      }
    },
    {
      "cell_type": "markdown",
      "source": [
        "Logistic regression uses the sigmoid function of the form:\n",
        "$$ f(x) = \\frac{1}{1-e^{-(\\vec{w}\\cdot\\vec{x}+b)}} $$\n",
        "where $w$ are the various features, and $b$ is the intercept."
      ],
      "metadata": {
        "id": "pwkZY2mf5pVo"
      }
    },
    {
      "cell_type": "markdown",
      "source": [
        "### Model building"
      ],
      "metadata": {
        "id": "HftwcuRZLQyc"
      }
    },
    {
      "cell_type": "code",
      "source": [
        "# Make a pipeline for preprocessing and use logistic regression.\n",
        "from sklearn.pipeline import make_pipeline\n",
        "from sklearn.preprocessing import StandardScaler # scales the data such that it has 0 mean and 1 variance\n",
        "from sklearn.linear_model import LogisticRegression\n",
        "\n",
        "pipe = make_pipeline(StandardScaler(), LogisticRegression())\n",
        "pipe.fit(xtrain, ytrain)"
      ],
      "metadata": {
        "id": "rVlxlF8eKXJ_",
        "colab": {
          "base_uri": "https://localhost:8080/"
        },
        "outputId": "c6af9e0c-5661-4c4d-cbf6-ec494697f429"
      },
      "execution_count": 23,
      "outputs": [
        {
          "output_type": "execute_result",
          "data": {
            "text/plain": [
              "Pipeline(steps=[('standardscaler', StandardScaler()),\n",
              "                ('logisticregression', LogisticRegression())])"
            ]
          },
          "metadata": {},
          "execution_count": 23
        }
      ]
    },
    {
      "cell_type": "code",
      "source": [
        "# Check the accuracy score on the test set.\n",
        "print(\"The accuracy score is: \", pipe.score(xtest, ytest))"
      ],
      "metadata": {
        "colab": {
          "base_uri": "https://localhost:8080/"
        },
        "id": "MIAY8XxQKZov",
        "outputId": "45cf968f-8253-4f20-cb9a-97a09ce6269f"
      },
      "execution_count": 24,
      "outputs": [
        {
          "output_type": "stream",
          "name": "stdout",
          "text": [
            "The accuracy score is:  0.9486735870818915\n"
          ]
        }
      ]
    },
    {
      "cell_type": "code",
      "source": [
        "# Make prediction.\n",
        "ypred_lr = pipe.predict(xtest)\n",
        "ypred_lr"
      ],
      "metadata": {
        "id": "SDGGD2jHMG-Y",
        "colab": {
          "base_uri": "https://localhost:8080/"
        },
        "outputId": "f73e72d6-848d-40d7-9fcb-51d3be23bcf9"
      },
      "execution_count": 25,
      "outputs": [
        {
          "output_type": "execute_result",
          "data": {
            "text/plain": [
              "array([0, 1, 0, ..., 0, 0, 0])"
            ]
          },
          "metadata": {},
          "execution_count": 25
        }
      ]
    },
    {
      "cell_type": "code",
      "source": [
        "# Calculate the probability of getting damage/no-damage.\n",
        "yprob_lr = pipe.predict_proba(xtest)\n",
        "yprob_lr"
      ],
      "metadata": {
        "colab": {
          "base_uri": "https://localhost:8080/"
        },
        "id": "9QqEBhP6_1_z",
        "outputId": "67eaf1d5-4189-436d-d8ce-75e656b0097d"
      },
      "execution_count": 26,
      "outputs": [
        {
          "output_type": "execute_result",
          "data": {
            "text/plain": [
              "array([[0.98290833, 0.01709167],\n",
              "       [0.45692053, 0.54307947],\n",
              "       [0.99059733, 0.00940267],\n",
              "       ...,\n",
              "       [0.98936491, 0.01063509],\n",
              "       [0.75815575, 0.24184425],\n",
              "       [0.98378649, 0.01621351]])"
            ]
          },
          "metadata": {},
          "execution_count": 26
        }
      ]
    },
    {
      "cell_type": "markdown",
      "source": [
        "### Model evaluation"
      ],
      "metadata": {
        "id": "o_6JnVJnLaf7"
      }
    },
    {
      "cell_type": "code",
      "source": [
        "# Measure accuracy of model.\n",
        "\n",
        "from sklearn.metrics import jaccard_score\n",
        "print(\"The jaccard index for logistic regression is: \", jaccard_score(ytest, ypred_lr, pos_label=0))\n",
        "\n",
        "from sklearn.metrics import f1_score\n",
        "print(\"The f1 score for logistic regression is: \", f1_score(ytest, ypred_lr, average='weighted') )"
      ],
      "metadata": {
        "colab": {
          "base_uri": "https://localhost:8080/"
        },
        "id": "I33Lxbdcx81F",
        "outputId": "9cf4ab48-7f7a-43f1-dddd-fd70e6bfc7c1"
      },
      "execution_count": 27,
      "outputs": [
        {
          "output_type": "stream",
          "name": "stdout",
          "text": [
            "The jaccard index for logistic regression is:  0.9474926253687316\n",
            "The f1 score for logistic regression is:  0.9418164035664521\n"
          ]
        }
      ]
    },
    {
      "cell_type": "code",
      "source": [
        "# Use the confusion matrix for evaluation.\n",
        "from sklearn import metrics\n",
        "\n",
        "conf_mat_lr = metrics.confusion_matrix(ytest, ypred_lr)\n",
        "conf_mat_lr"
      ],
      "metadata": {
        "colab": {
          "base_uri": "https://localhost:8080/"
        },
        "id": "rAQbVzOv-33k",
        "outputId": "1a06879c-8ec6-4d88-9ed3-82c7cfc9825d"
      },
      "execution_count": 28,
      "outputs": [
        {
          "output_type": "execute_result",
          "data": {
            "text/plain": [
              "array([[1606,   21],\n",
              "       [  68,   39]])"
            ]
          },
          "metadata": {},
          "execution_count": 28
        }
      ]
    },
    {
      "cell_type": "markdown",
      "source": [
        "Number of misclassified vehicles are 68 + 21 = 89. "
      ],
      "metadata": {
        "id": "6m_24XsCYbJZ"
      }
    },
    {
      "cell_type": "code",
      "source": [
        "# Visualize the confusion matrix using a heatmap.\n",
        "\n",
        "names = [\"No damage\", \"Damage\"]\n",
        "ticks = [0.5,1.5]\n",
        "sns.heatmap(pd.DataFrame(conf_mat_lr), annot=True, cmap = 'plasma', fmt='g')\n",
        "plt.xticks(ticks, names)\n",
        "plt.yticks(ticks, names)\n",
        "plt.ylabel('Actual label')\n",
        "plt.xlabel('Predicted label')\n",
        "plt.show()"
      ],
      "metadata": {
        "colab": {
          "base_uri": "https://localhost:8080/",
          "height": 283
        },
        "id": "H-7A3yVzMkWr",
        "outputId": "f1304133-1334-4490-8308-649836a42ed7"
      },
      "execution_count": 29,
      "outputs": [
        {
          "output_type": "display_data",
          "data": {
            "text/plain": [
              "<Figure size 432x288 with 2 Axes>"
            ],
            "image/png": "[encoded data removed]"
          },
          "metadata": {
            "needs_background": "light"
          }
        }
      ]
    },
    {
      "cell_type": "code",
      "source": [
        "# Measure accuracy of the metric.\n",
        "\n",
        "print(\"Accuracy:\",metrics.accuracy_score(ytest, ypred_lr))\n",
        "print(\"Precision:\",metrics.precision_score(ytest, ypred_lr))"
      ],
      "metadata": {
        "colab": {
          "base_uri": "https://localhost:8080/"
        },
        "id": "mi_IRKQWQUX8",
        "outputId": "393211d6-bb18-4bb2-c331-9cf4fc069f19"
      },
      "execution_count": 30,
      "outputs": [
        {
          "output_type": "stream",
          "name": "stdout",
          "text": [
            "Accuracy: 0.9486735870818915\n",
            "Precision: 0.65\n"
          ]
        }
      ]
    },
    {
      "cell_type": "markdown",
      "source": [
        "## Support Vector Machine"
      ],
      "metadata": {
        "id": "hXDJudZAXRRJ"
      }
    },
    {
      "cell_type": "markdown",
      "source": [
        "SVC maps the data to a higher dimentional space for better classification."
      ],
      "metadata": {
        "id": "sXbfgGp402yh"
      }
    },
    {
      "cell_type": "markdown",
      "source": [
        "### Model building"
      ],
      "metadata": {
        "id": "RFOmUrgm1Jc-"
      }
    },
    {
      "cell_type": "code",
      "source": [
        "# Import and implement the SVM function from sklearn.\n",
        "from sklearn import svm\n",
        "\n",
        "func = svm.SVC()\n",
        "func.fit(xtrain, ytrain) "
      ],
      "metadata": {
        "id": "lcV27hq4TSTd",
        "colab": {
          "base_uri": "https://localhost:8080/"
        },
        "outputId": "d6a79f6f-35d8-4347-af12-200a7102bdd9"
      },
      "execution_count": 31,
      "outputs": [
        {
          "output_type": "execute_result",
          "data": {
            "text/plain": [
              "SVC()"
            ]
          },
          "metadata": {},
          "execution_count": 31
        }
      ]
    },
    {
      "cell_type": "code",
      "source": [
        "print(\"The accuracy score is: \", func.score(xtest,ytest))"
      ],
      "metadata": {
        "colab": {
          "base_uri": "https://localhost:8080/"
        },
        "id": "1npVBCDy1SAR",
        "outputId": "83723050-2cdc-42b1-9e1a-60e05374f2c8"
      },
      "execution_count": 32,
      "outputs": [
        {
          "output_type": "stream",
          "name": "stdout",
          "text": [
            "The accuracy score is:  0.9382929642445214\n"
          ]
        }
      ]
    },
    {
      "cell_type": "code",
      "source": [
        "ypred_svm = func.predict(xtest)\n",
        "ypred_svm"
      ],
      "metadata": {
        "colab": {
          "base_uri": "https://localhost:8080/"
        },
        "id": "BTLs604jy25j",
        "outputId": "47465706-4c10-4c89-c0aa-52cb03729fc2"
      },
      "execution_count": 33,
      "outputs": [
        {
          "output_type": "execute_result",
          "data": {
            "text/plain": [
              "array([0, 0, 0, ..., 0, 0, 0])"
            ]
          },
          "metadata": {},
          "execution_count": 33
        }
      ]
    },
    {
      "cell_type": "markdown",
      "source": [
        "### Model evaluation"
      ],
      "metadata": {
        "id": "D7NoSMEB1ljO"
      }
    },
    {
      "cell_type": "code",
      "source": [
        "# Meaure accuracy of the model.\n",
        "\n",
        "from sklearn.metrics import jaccard_score\n",
        "print(\"The jaccard index for SVM is: \", jaccard_score(ytest, ypred_svm, pos_label=0))\n",
        "\n",
        "from sklearn.metrics import f1_score\n",
        "print(\"The f1 score for SVM is: \", f1_score(ytest, ypred_svm, average='weighted') )"
      ],
      "metadata": {
        "colab": {
          "base_uri": "https://localhost:8080/"
        },
        "id": "j--sdMe-5XD8",
        "outputId": "0eafd719-55c8-41ac-d013-0a1077b63538"
      },
      "execution_count": 34,
      "outputs": [
        {
          "output_type": "stream",
          "name": "stdout",
          "text": [
            "The jaccard index for SVM is:  0.9379350348027842\n",
            "The f1 score for SVM is:  0.9179605187229115\n"
          ]
        }
      ]
    },
    {
      "cell_type": "code",
      "source": [
        "# Use the confusion matrix for evaluation.\n",
        "from sklearn import metrics\n",
        "\n",
        "conf_mat_svm = metrics.confusion_matrix(ytest, ypred_svm)\n",
        "conf_mat_svm"
      ],
      "metadata": {
        "colab": {
          "base_uri": "https://localhost:8080/"
        },
        "id": "le9kNd020KLe",
        "outputId": "535a5e94-dc3b-42de-d14d-6854a1ab1fd9"
      },
      "execution_count": 35,
      "outputs": [
        {
          "output_type": "execute_result",
          "data": {
            "text/plain": [
              "array([[1617,   10],\n",
              "       [  97,   10]])"
            ]
          },
          "metadata": {},
          "execution_count": 35
        }
      ]
    },
    {
      "cell_type": "markdown",
      "source": [
        "Number of misclassified vehicles are 10 + 97 = 107."
      ],
      "metadata": {
        "id": "K6Zkm8a91_sv"
      }
    },
    {
      "cell_type": "code",
      "source": [
        "# Visualize the confusion matrix using a heatmap.\n",
        "\n",
        "names = [\"No damage\", \"Damage\"]\n",
        "ticks = [0.5,1.5]\n",
        "sns.heatmap(pd.DataFrame(conf_mat_svm), annot=True, cmap = 'plasma', fmt='g')\n",
        "plt.xticks(ticks, names)\n",
        "plt.yticks(ticks, names)\n",
        "plt.ylabel('Actual label')\n",
        "plt.xlabel('Predicted label')\n",
        "plt.show()"
      ],
      "metadata": {
        "colab": {
          "base_uri": "https://localhost:8080/",
          "height": 281
        },
        "id": "9pKBOF9P1zsq",
        "outputId": "0f96511c-435d-46f6-9eb7-8ae95874e5be"
      },
      "execution_count": 36,
      "outputs": [
        {
          "output_type": "display_data",
          "data": {
            "text/plain": [
              "<Figure size 432x288 with 2 Axes>"
            ],
            "image/png": "[encoded data removed]"
          },
          "metadata": {
            "needs_background": "light"
          }
        }
      ]
    },
    {
      "cell_type": "code",
      "source": [
        "# Measure accuracy of the metric.\n",
        "\n",
        "print(\"Accuracy:\",metrics.accuracy_score(ytest, ypred_svm))\n",
        "print(\"Precision:\",metrics.precision_score(ytest, ypred_svm))"
      ],
      "metadata": {
        "colab": {
          "base_uri": "https://localhost:8080/"
        },
        "id": "nz5Nldth2bt7",
        "outputId": "1f403c59-1eda-4495-b689-d12446d38d92"
      },
      "execution_count": 37,
      "outputs": [
        {
          "output_type": "stream",
          "name": "stdout",
          "text": [
            "Accuracy: 0.9382929642445214\n",
            "Precision: 0.5\n"
          ]
        }
      ]
    },
    {
      "cell_type": "markdown",
      "source": [
        "# Decision Tree Classifier"
      ],
      "metadata": {
        "id": "DeVLVxhM7NM4"
      }
    },
    {
      "cell_type": "markdown",
      "source": [
        "We build the model based on probabilities in the form of a tree."
      ],
      "metadata": {
        "id": "JoLgo0np7TdI"
      }
    },
    {
      "cell_type": "markdown",
      "source": [
        "### Model building"
      ],
      "metadata": {
        "id": "DiRO7bo97Z-u"
      }
    },
    {
      "cell_type": "code",
      "source": [
        "from sklearn.tree import DecisionTreeClassifier\n",
        "import sklearn.tree as tree\n",
        "\n",
        "t = DecisionTreeClassifier(criterion=\"entropy\", max_depth = 4)\n",
        "t.fit(xtrain, ytrain)"
      ],
      "metadata": {
        "colab": {
          "base_uri": "https://localhost:8080/"
        },
        "id": "7wI_Xo4u2l5o",
        "outputId": "4c7d5dc1-4ff7-44a9-be62-cee4d9c11fe2"
      },
      "execution_count": 38,
      "outputs": [
        {
          "output_type": "execute_result",
          "data": {
            "text/plain": [
              "DecisionTreeClassifier(criterion='entropy', max_depth=4)"
            ]
          },
          "metadata": {},
          "execution_count": 38
        }
      ]
    },
    {
      "cell_type": "code",
      "source": [
        "print(\"The accuracy score is: \", t.score(xtest,ytest))"
      ],
      "metadata": {
        "colab": {
          "base_uri": "https://localhost:8080/"
        },
        "id": "80O7YhH47pVV",
        "outputId": "fac724f0-be27-48f4-e486-dab4ba600bdb"
      },
      "execution_count": 39,
      "outputs": [
        {
          "output_type": "stream",
          "name": "stdout",
          "text": [
            "The accuracy score is:  0.9452133794694348\n"
          ]
        }
      ]
    },
    {
      "cell_type": "code",
      "source": [
        "ypred_dtc = t.predict(xtest)\n",
        "ypred_dtc"
      ],
      "metadata": {
        "colab": {
          "base_uri": "https://localhost:8080/"
        },
        "id": "MskXlu6j8BtP",
        "outputId": "1f28d509-4e4b-4eed-82fc-cc73d634b730"
      },
      "execution_count": 40,
      "outputs": [
        {
          "output_type": "execute_result",
          "data": {
            "text/plain": [
              "array([0, 1, 0, ..., 0, 0, 0])"
            ]
          },
          "metadata": {},
          "execution_count": 40
        }
      ]
    },
    {
      "cell_type": "code",
      "source": [
        "# Visualize the tree\n",
        "tree.plot_tree(t)\n",
        "plt.show()"
      ],
      "metadata": {
        "colab": {
          "base_uri": "https://localhost:8080/",
          "height": 248
        },
        "id": "1u_uwGWk8_Zq",
        "outputId": "58563231-22d4-4209-d355-c322ad6f3d8e"
      },
      "execution_count": 41,
      "outputs": [
        {
          "output_type": "display_data",
          "data": {
            "text/plain": [
              "<Figure size 432x288 with 1 Axes>"
            ],
            "image/png": "[encoded data removed]"
          },
          "metadata": {
            "needs_background": "light"
          }
        }
      ]
    },
    {
      "cell_type": "markdown",
      "source": [
        "### Model evaluation"
      ],
      "metadata": {
        "id": "eFZLXKJI8Ury"
      }
    },
    {
      "cell_type": "code",
      "source": [
        "# Meaure accuracy of the model.\n",
        "\n",
        "from sklearn.metrics import jaccard_score\n",
        "print(\"The jaccard index for decision tree classifier is: \", jaccard_score(ytest, ypred_dtc, pos_label=0))\n",
        "\n",
        "from sklearn.metrics import f1_score\n",
        "print(\"The f1 score for decision tree classifier is: \", f1_score(ytest, ypred_dtc, average='weighted') )"
      ],
      "metadata": {
        "colab": {
          "base_uri": "https://localhost:8080/"
        },
        "id": "ope-tm668QFY",
        "outputId": "682753b9-3751-4a5b-c39d-6caa15fe005a"
      },
      "execution_count": 42,
      "outputs": [
        {
          "output_type": "stream",
          "name": "stdout",
          "text": [
            "The jaccard index for decision tree classifier is:  0.9441176470588235\n",
            "The f1 score for decision tree classifier is:  0.937065177129553\n"
          ]
        }
      ]
    },
    {
      "cell_type": "code",
      "source": [
        "# Use the confusion matrix for evaluation.\n",
        "from sklearn import metrics\n",
        "\n",
        "conf_mat_dtc = metrics.confusion_matrix(ytest, ypred_dtc)\n",
        "conf_mat_dtc"
      ],
      "metadata": {
        "colab": {
          "base_uri": "https://localhost:8080/"
        },
        "id": "WRXzIQdV8h22",
        "outputId": "0b8be45f-6848-4bc3-e275-8f1e924caa14"
      },
      "execution_count": 43,
      "outputs": [
        {
          "output_type": "execute_result",
          "data": {
            "text/plain": [
              "array([[1605,   22],\n",
              "       [  73,   34]])"
            ]
          },
          "metadata": {},
          "execution_count": 43
        }
      ]
    },
    {
      "cell_type": "markdown",
      "source": [
        "Number of misclassified vehicles are 73 + 22 = 95."
      ],
      "metadata": {
        "id": "g-KwLvRR8ser"
      }
    },
    {
      "cell_type": "code",
      "source": [
        "# Visualize the confusion matrix using a heatmap.\n",
        "\n",
        "names = [\"No damage\", \"Damage\"]\n",
        "ticks = [0.5,1.5]\n",
        "sns.heatmap(pd.DataFrame(conf_mat_dtc), annot=True, cmap = 'plasma', fmt='g')\n",
        "plt.xticks(ticks, names)\n",
        "plt.yticks(ticks, names)\n",
        "plt.ylabel('Actual label')\n",
        "plt.xlabel('Predicted label')\n",
        "plt.show()"
      ],
      "metadata": {
        "colab": {
          "base_uri": "https://localhost:8080/",
          "height": 283
        },
        "id": "u6_6LNkJ8nI-",
        "outputId": "93b88c92-1149-4da3-f253-0015dfbaff9d"
      },
      "execution_count": 44,
      "outputs": [
        {
          "output_type": "display_data",
          "data": {
            "text/plain": [
              "<Figure size 432x288 with 2 Axes>"
            ],
            "image/png": "[encoded data removed]"
          },
          "metadata": {
            "needs_background": "light"
          }
        }
      ]
    },
    {
      "cell_type": "code",
      "source": [
        "# Measure accuracy of the metric.\n",
        "\n",
        "print(\"Accuracy:\",metrics.accuracy_score(ytest, ypred_dtc))\n",
        "print(\"Precision:\",metrics.precision_score(ytest, ypred_dtc))"
      ],
      "metadata": {
        "colab": {
          "base_uri": "https://localhost:8080/"
        },
        "id": "th9SbQ3B82MO",
        "outputId": "d3d8c59b-9613-4ead-f721-37c0bfbd7eb9"
      },
      "execution_count": 45,
      "outputs": [
        {
          "output_type": "stream",
          "name": "stdout",
          "text": [
            "Accuracy: 0.9452133794694348\n",
            "Precision: 0.6071428571428571\n"
          ]
        }
      ]
    },
    {
      "cell_type": "markdown",
      "source": [
        "\n",
        "\n",
        "---\n",
        "\n",
        "\n",
        "\n",
        "---\n",
        "\n"
      ],
      "metadata": {
        "id": "X3YG8wqe-7uI"
      }
    }
  ]
}